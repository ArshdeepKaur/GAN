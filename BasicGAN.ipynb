{
  "nbformat": 4,
  "nbformat_minor": 0,
  "metadata": {
    "colab": {
      "provenance": [],
      "gpuType": "T4",
      "authorship_tag": "ABX9TyObdTOQMbl0d/gEdOCnY8H+",
      "include_colab_link": true
    },
    "kernelspec": {
      "name": "python3",
      "display_name": "Python 3"
    },
    "language_info": {
      "name": "python"
    },
    "accelerator": "GPU"
  },
  "cells": [
    {
      "cell_type": "markdown",
      "metadata": {
        "id": "view-in-github",
        "colab_type": "text"
      },
      "source": [
        "<a href=\"https://colab.research.google.com/github/ArshdeepKaur/GAN/blob/main/BasicGAN.ipynb\" target=\"_parent\"><img src=\"https://colab.research.google.com/assets/colab-badge.svg\" alt=\"Open In Colab\"/></a>"
      ]
    },
    {
      "cell_type": "code",
      "execution_count": 4,
      "metadata": {
        "id": "cn8n5h-pSCXU"
      },
      "outputs": [],
      "source": [
        "import torch, pdb\n",
        "from torch.utils.data import DataLoader\n",
        "from torch import nn\n",
        "from torchvision import transforms\n",
        "from torchvision.datasets import MNIST\n",
        "from torchvision.utils import make_grid\n",
        "from tqdm.auto import tqdm\n",
        "import matplotlib.pyplot as plt"
      ]
    },
    {
      "cell_type": "code",
      "source": [
        "# visualization function\n",
        "def show (tensor, ch=1, size=(28,28),num=16):\n",
        "    # input tensor: 128 x 784\n",
        "    data = tensor.detach().cpu.view(-1, ch, *size) # 128  x 1 x 28 x 28\n",
        "    grid = make_grid(data[:num], nrows = 4).permute(1,2,0)\n",
        "    # 1x28x28 in pytorch is 28x28x1 in matplotlib\n",
        "    plt.imshow(grid)\n",
        "    plt.show()"
      ],
      "metadata": {
        "id": "jRS_XxXJYc2I"
      },
      "execution_count": 9,
      "outputs": []
    },
    {
      "cell_type": "code",
      "source": [],
      "metadata": {
        "id": "-QzSbFq0gEeJ"
      },
      "execution_count": null,
      "outputs": []
    }
  ]
}